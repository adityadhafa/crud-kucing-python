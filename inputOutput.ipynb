{
 "cells": [
  {
   "cell_type": "code",
   "execution_count": null,
   "metadata": {},
   "outputs": [
    {
     "name": "stdout",
     "output_type": "stream",
     "text": [
      "acip adalah kucing yang lucu\n",
      "cemong adalah kucing himalaya\n",
      "nama kucing barunya buk Sai itu ameng dan umurnya 1+0.5 Tahun\n",
      "himalaya\n",
      "oyen\n",
      "kempung\n"
     ]
    }
   ],
   "source": [
    "#comment -> cara comment adalah dengan cara pake 'hashtag' atay '#' pager\n",
    "\n",
    "#input dan output di python\n",
    "#output, kalo mau ngeoutput ke cli tinggal pake print doang, ez\n",
    "print(\"acip adalah kucing yang lucu\")\n",
    "print(\"cemong adalah kucing himalaya\")\n",
    "#input, kalo mau input itu tinggal pake function input() doang di sini buset\n",
    "#gini caranya\n",
    "#langsung aja masukin ke variabel\n",
    "kucingBaru = input(\"masukkan nama kucing baru yang dipunya buk Sai: \")\n",
    "\n",
    "#terus kalo mau ngeprint itu kalo mau gampang buat ngeprint string tanpa harus pake tanda +, pake formatted string aja\n",
    "#jadi gausah perlu repot repot lagi buat ngurusin spasinya, jadi ya langsung kaya nulis biasa aja\n",
    "print(f\"nama kucing barunya buk Sai itu {kucingBaru} dan umurnya 1+0.5 Tahun\")\n",
    "print(f\"hello {kucingBaru}, nice to meet you Cat!\")\n",
    "#atau ga bisa langsung input banyak juga, ga perlu pake for loop, kalo mau nyoba pake for loop bolelh juga sih\n",
    "jenisJenisKucingBukSai = input(\"masukkan jenis-jenis kucing yang dipunyai buk Sai: \").split() #split() ituu buat input yap\n",
    "#nah di sini jadinya variabel jenisJenisKucingBukSai  jadi variabel List (atau array kalo di cpp), yaitu lemari yang nyimpen banyak wadah atau variabel\n",
    "#nah jadinya kita bisa output satu satu dengan pengulangan atau iterasi\n",
    "#atau kalo di python yaa loopnya itu dia basicnya atua basenya adalah emang ngabsenin isi suatu List gitu\n",
    "for jenisKucing in jenisJenisKucingBukSai:\n",
    "    print(jenisKucing.strip())  # variableString.strip() ini itu buat ngestrip atau ngilangin spasi, enter, dll, jadi bersih.\n",
    "                                # ada juga kegunaan lainnya yang bahasan lebih lanjutnya ada di bawah\n",
    "                                "
   ]
  },
  {
   "cell_type": "code",
   "execution_count": 9,
   "id": "3f050980",
   "metadata": {},
   "outputs": [
    {
     "name": "stdout",
     "output_type": "stream",
     "text": [
      "himayala\n",
      "oyen\n",
      "garong\n"
     ]
    }
   ],
   "source": [
    "# bisa juga split waktu ada komanya misal, yaa tinggal sama aja sih\n",
    "jenisJenisKucingBukSai = input(\"masukkan jenis-jenis kucing yang dipunyai buk Sai: \").split(',')\n",
    "# jadi nanti otomatis koma ini bakal dihilangin\n",
    "for jenisKucing in jenisJenisKucingBukSai:\n",
    "    print(jenisKucing.strip())"
   ]
  },
  {
   "cell_type": "code",
   "execution_count": null,
   "id": "85fc32c3",
   "metadata": {},
   "outputs": [
    {
     "name": "stdout",
     "output_type": "stream",
     "text": [
      "nama asli = acip \n",
      "nama momnya = mucing\n"
     ]
    }
   ],
   "source": [
    "#nah fungsi split ini itu juga bisa dioprek-oprek\n",
    "#nih misal mau displit atau diilangin karakter pemisahnya, misal based on koma taua pemisah anehbanget\n",
    "namaKucingPanjang = \"acip binti mucing\"\n",
    "#nah ini kita bisa pisah dan kita bisa ilangin bintinya, ez kok\n",
    "#tinggal gini doang\n",
    "namaBaru = namaKucingPanjang.split(\"binti\") #ini nanti hasilnya akan jadi List yang isinya wadah [acip, mucing]\n",
    "counter = 0\n",
    "for nama in namaBaru:\n",
    "    if counter == 0:\n",
    "        print(\"nama asli = \" + nama)\n",
    "    else:\n",
    "        print(\"nama momnya = \" + nama.strip()) #boleh juga pake fungsi .strip() buat ngilangin spasinya, enak deh\n",
    "    counter += 1"
   ]
  },
  {
   "cell_type": "code",
   "execution_count": 5,
   "id": "fc49d318",
   "metadata": {},
   "outputs": [
    {
     "name": "stdout",
     "output_type": "stream",
     "text": [
      "nama asli = acip\n",
      "nama momnya = mucing\n"
     ]
    }
   ],
   "source": [
    "#ini versi enaknya\n",
    "\n",
    "namaBaru = namaKucingPanjang.split(\"binti\") \n",
    "\n",
    "# enumerate() ngasih lo \"paket\" (index, item). enumerate itu buat langsugn ngasih index ke setiap itemnya yang disimpen di wadah atau variabe;\n",
    "#enumerate(namaBaru), yang isinya namaBaru = [\"acip\", \"mucing\"]\n",
    "#jadi nantu keluarnya lansung index 0 = acip, index 1 = mucing, gitu\n",
    "for index, nama in enumerate(namaBaru):\n",
    "    # Loop 1: index=0, nama='acip '\n",
    "    # Loop 2: index=1, nama=' mucing'\n",
    "    \n",
    "    if index == 0:\n",
    "        print(\"nama asli = \" + nama.strip())\n",
    "    else:\n",
    "        print(\"nama momnya = \" + nama.strip())"
   ]
  },
  {
   "cell_type": "code",
   "execution_count": null,
   "id": "3c92579a",
   "metadata": {},
   "outputs": [
    {
     "name": "stdout",
     "output_type": "stream",
     "text": [
      "'cemong'\n",
      "kempung\n",
      "-acip-\n"
     ]
    }
   ],
   "source": [
    "# Kucing lo abis main di lumpur (banyak spasi & enter)\n",
    "nama_kotor = \"   \\n \\t cemong   \\n \"\n",
    "\n",
    "# Kita mandiin pake .strip()\n",
    "nama_bersih = nama_kotor.strip()\n",
    "\n",
    "print(f\"{nama_bersih}\") #nah ini juga pake formatted string waktu printnya, walaupun bia juga langsung print(nama_bersih)\n",
    "# Hasil: 'cemong'\n",
    "\n",
    "data_kucing = \"...!!!kempung!!!...\"\n",
    "\n",
    "# Kita mau buang SEMUA titik dan tanda seru di tepi\n",
    "# Daftar sabun/daftar belanjaan kita: \".\" dan \"!\" -> ya artinya kita hapus semua tanda ini di kumpulan chars itu\n",
    "nama_kucing = data_kucing.strip(\".!\")\n",
    "\n",
    "print(nama_kucing)\n",
    "# Hasil: \"kempung\"\n",
    "\n",
    "teks = \"abca-acip-cab\"\n",
    "\n",
    "# Sabun/daftar belanjaan kita: \"abc\"\n",
    "# Ini BUKAN \"cari teks 'abc' di tepi\"\n",
    "# Ini ARTINYA \"cari karakter 'm', 'e', 'o', ATAU 'w' di tepi\"\n",
    "# dan dia akan berhenti beriterasi ketikaa, dia kan satu per satu nih, nah ketika dia sekali ga nemu\n",
    "# daftar belanjaannya, maka dia berhenti, makanya waktu ketemu strip dia berhenti\n",
    "hasil = teks.strip(\"abc\") \n",
    "\n",
    "print(hasil)\n",
    "# Hasil: \"-acip-\"\n",
    "\n",
    "#strip itu udah gabungan dari ngestrip kanan dan kiri, yaitu rstrip() sam lstrip()\n",
    "\n"
   ]
  },
  {
   "cell_type": "code",
   "execution_count": null,
   "id": "4ce02680",
   "metadata": {},
   "outputs": [
    {
     "name": "stdout",
     "output_type": "stream",
     "text": [
      "ameng binti cimol\n",
      "ameng bin cimol bin acip bin garong bin oyen\n"
     ]
    }
   ],
   "source": [
    "# bisa juga langsung ambil input untuk dua variabel sekaligus\n",
    "namaKucing, namaIbu = input(\"masukkan nama asli kucing lalu nama Ibunya (dipisah dengan spasi)\").split() \n",
    "                            #dipisah pake spasi soalnya di sini aku pake split biasa\n",
    "print(f\"{namaKucing} binti {namaIbu}\")\n",
    "\n",
    "# Pake tanda * di variabel kedua\n",
    "namaKucing, *namaKeluarga = input(\"Masukkan nama kucing dan sisa keluarganya: \").split()\n",
    "# Lo ngetik: \"Acip Mucil Kempung Garong\"\n",
    "\n",
    "stringNama = namaKucing\n",
    "\n",
    "for famName in namaKeluarga:\n",
    "    stringNama += \" bin \" + famName.strip()\n",
    "    \n",
    "print(f\"{stringNama}\")\n",
    "    \n"
   ]
  },
  {
   "cell_type": "code",
   "execution_count": null,
   "id": "41813d60",
   "metadata": {},
   "outputs": [
    {
     "name": "stdout",
     "output_type": "stream",
     "text": [
      "<class 'int'>\n",
      "berat badan rata rata kucingnya buk Sai adalah 20\n",
      "berat badan kucing in str 20\n",
      "<class 'str'>\n"
     ]
    }
   ],
   "source": [
    "# ini itu tentang conversion angka dari string ke int atau float gitu ya, \n",
    "# dan sebaliknya, yang penting angka\n",
    "# tinggal .tipeData()\n",
    "# nih misal:\n",
    "umurKucing = input(\"berapa umur kucingnya buk Sai? \") # nah ini itu masih ngembaliin dalam bentuk fungsi\n",
    "# maka dari itu bagusnya adalah diubah aja langsung ke int gitu variabel input buat masuk ke wadahnya, asalkan yang diinput nanti adalah ANGKA\n",
    "# jadi bisa kaya\n",
    "int(umurKucing) # -> nah ini bakal ngerubah string hasil dari input tadi menjadi bertipe bilangan bulat angka yang bisa dioperasi matematika-kan\n",
    "# nah bisa juga langsung sedari dari pas inputnya, lebih enak laig\n",
    "umurKucing = int(input(\"berapa sih umur kucing mu? \"))\n",
    "\n",
    "print(type(umurKucing))\n",
    "\n",
    "# iniii itu karena disebabkan variabel di python yangg bisa gonta ganti tipe data, yang ga butuh deklarasi tipe dari awal, ga kaya di cpp yang dari awal tipe datanya langsung kudu dipastiin dan di define\n",
    "\n",
    "# dan syaratnya itu juga kalo misalnya dia asal stringnya float ya diconver ke float, kalo asal stringnya int a diconvert ke int, dah gitu\n",
    "# jadi misal nih\n",
    "beratBadanKucing = float(input(\"berapa rata rata berat badan kucingnya buk Sai? (dalam kg)\")) # nah ini nanti dia cuma bakal nerima hasil yang float atau koma koma-an, walaupun nanti kalo misalnya inputnya int pun uga bisa sih, tapi tipenya float\n",
    "# jadi misal inputnya 2.5 nih, nah maka yaudah bener\n",
    "# tapii kalo misalnya gini:\n",
    "beratBadanKucing = int(input(\"brp rata rata bb kucingya buk Sai? (dalam kg)\"))\n",
    "# nah ini kalo misalnya inputnya koma koma an maka dia akan error, ya karena integer itu bilangan bulat, bukan koma komaan, nah gitu dah pokonya\n",
    "\n",
    "print(f\"berat badan rata rata kucingnya buk Sai adalah {beratBadanKucing}\") \n",
    "#sebenernya pun kalo misalnya kita pake f-string atau formatted string, fungsi printnya itu jgua diam diam langsung ngubah di yang di kurung kurawal {} jadi str() gitu. supaya kalo ngeprint, ya ngeprint str() \n",
    "\n",
    "# nah terus ini sebaliknya kalo dari int atau float jadiin string juga bisa, langsung aja gasken kalo yang ini\n",
    "# tinggal: \n",
    "strBbKucing = str(beratBadanKucing) # ini dua mau inputnya float atau integer bakal langsung diubah jaid str nanti, jadi variabel strBbKucing nanti dia bakal bertipe string, nih liat:\n",
    "print(f\"berat badan kucing in str adalah {strBbKucing}\")\n",
    "# bisa jg cek tipe datanya pake fungis type() kalo ga percata\n",
    "print(type(strBbKucing))"
   ]
  }
 ],
 "metadata": {
  "kernelspec": {
   "display_name": "venv (3.13.3)",
   "language": "python",
   "name": "python3"
  },
  "language_info": {
   "codemirror_mode": {
    "name": "ipython",
    "version": 3
   },
   "file_extension": ".py",
   "mimetype": "text/x-python",
   "name": "python",
   "nbconvert_exporter": "python",
   "pygments_lexer": "ipython3",
   "version": "3.13.3"
  }
 },
 "nbformat": 4,
 "nbformat_minor": 5
}
